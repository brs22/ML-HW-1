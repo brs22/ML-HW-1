{
 "cells": [
  {
   "cell_type": "markdown",
   "metadata": {},
   "source": [
    "# 1 US Stock Market Data  \n",
    "\n",
    "Using [Yahoo! Finance](https://finance.yahoo.com/) as your data source, download daily prices for S&P 500 and eleven stocks which are part of this index, each representing one of the [GICS](https://www.msci.com/our-solutions/indexes/gics) sectors. You can choose any set of stocks that satisfy these criteria.\n",
    "\n",
    "Repeat the EDA presented in the lectures. You are most welcome to amend the code as you find fit. It is important that you discuss your results and provide intuition and interpretation for your findings. This analysis should be augmented with the following information for the index and stock returns calculated from closing prices:"
   ]
  },
  {
   "cell_type": "markdown",
   "metadata": {},
   "source": [
    "### a) Normality  \n",
    "* Create Q–Q plots for each time series. Discuss the results.\n",
    "* Run normality tests, e.g., Jarque–Bera, Shapiro–Wilk, Anderson–Darling, and D’Agostino K-squared tests. Consider possible input parameters in the applied methods, briefly describe the tests, and discuss your choices and findings. To run these tests, consider scipy.stats (or any other relevant package)."
   ]
  },
  {
   "cell_type": "code",
   "execution_count": null,
   "metadata": {},
   "outputs": [],
   "source": []
  },
  {
   "cell_type": "markdown",
   "metadata": {},
   "source": [
    "### b) Multivariate Analysis\n",
    "\n",
    "* Compute and visualize (e.g., using a heatmap) the correlation matrix. Discuss your findings, i.e., try to provide a rationale why some pairs of stocks might have higher correlation that others. To answer this question, select up to five representative figures from the correlation matrix.\n",
    "* Calculate the [Mahalanobis distance (MD)](https://en.wikipedia.org/wiki/Mahalanobis_distance) for the selected eleven stocks (i.e., exclude the S&P 500 index). Download daily time series of the CBOE volatility index (VIX), and plot the MD and VIX in the same graph. Discuss your findings."
   ]
  },
  {
   "cell_type": "code",
   "execution_count": null,
   "metadata": {},
   "outputs": [],
   "source": []
  },
  {
   "cell_type": "markdown",
   "metadata": {},
   "source": [
    "# 2 FRED–MD: A Database for Macroeconomic Research\n",
    "\n",
    "Consider the Federal Reserve Bank of St. Louis’ monthly database of macroeconomic factors created by [Michael W. McCracken et al](https://research.stlouisfed.org/econ/mccracken/fred-databases/). The data and the associated research paper are provided on the shared drive. The list of all variables and the respective recommended data transformations are listed in the appendix of the paper (pp. 586–588).\n",
    "\n",
    "In this exercise, you will conduct an exploratory data analysis for a subset of the FRED–MD database. You can use and possibly amend your EDA code generated for the US stock market analysis in the previous exercise. You are free to choose which types of data presentations and statistical testing are relevant for this particular data set. Last but not least, you are most welcome to introduce your own ideas and add other tests and procedures (in which case you might be awarded bonus points). For each of the questions listed below, please provide plots or tables where necessary, justify your choices, and discuss your results."
   ]
  },
  {
   "cell_type": "markdown",
   "metadata": {},
   "source": [
    "### a) Data selection: \n",
    "From each of the eight data categories presented in the paper select one representative variable."
   ]
  },
  {
   "cell_type": "code",
   "execution_count": null,
   "metadata": {},
   "outputs": [],
   "source": []
  },
  {
   "cell_type": "markdown",
   "metadata": {},
   "source": [
    "### (b) High-level overview: \n",
    "Present basic information about your data set in tabular or visual form."
   ]
  },
  {
   "cell_type": "code",
   "execution_count": null,
   "metadata": {},
   "outputs": [],
   "source": []
  },
  {
   "cell_type": "markdown",
   "metadata": {},
   "source": [
    "### (c) Data transformations: \n",
    "Apply data transformations and run some stationarity tests."
   ]
  },
  {
   "cell_type": "code",
   "execution_count": null,
   "metadata": {},
   "outputs": [],
   "source": []
  },
  {
   "cell_type": "markdown",
   "metadata": {},
   "source": [
    "### (d) Missing observations: \n",
    "Impute missing values using your preferred approach. If there are no missing values in your data set, randomly remove some observations just for this part of the exercise. Justify your choice(s)."
   ]
  },
  {
   "cell_type": "code",
   "execution_count": null,
   "metadata": {},
   "outputs": [],
   "source": []
  },
  {
   "cell_type": "markdown",
   "metadata": {},
   "source": [
    "### (e) Outliers: \n",
    "Implement at least one approach for detection of outliers. Justify your choices (even if you do not remove any outliers)."
   ]
  },
  {
   "cell_type": "code",
   "execution_count": null,
   "metadata": {},
   "outputs": [],
   "source": []
  },
  {
   "cell_type": "markdown",
   "metadata": {},
   "source": [
    "### (f) Normality: \n",
    "Explore (i.e., visually and formally by using statistical tools) if the data are normally distributed."
   ]
  },
  {
   "cell_type": "code",
   "execution_count": null,
   "metadata": {},
   "outputs": [],
   "source": []
  },
  {
   "cell_type": "markdown",
   "metadata": {},
   "source": [
    "### (g) Multivariate analysis: \n",
    "Compute and visualize (e.g., using a heatmap) the correlation matrix and discuss the results (e.g., pick some examples and provide a rationale why those correlation coefficients make or do not make sense)."
   ]
  },
  {
   "cell_type": "code",
   "execution_count": null,
   "metadata": {},
   "outputs": [],
   "source": []
  }
 ],
 "metadata": {
  "kernelspec": {
   "display_name": "Python 3.9.7 ('base')",
   "language": "python",
   "name": "python3"
  },
  "language_info": {
   "name": "python",
   "version": "3.9.7"
  },
  "orig_nbformat": 4,
  "vscode": {
   "interpreter": {
    "hash": "ad2bdc8ecc057115af97d19610ffacc2b4e99fae6737bb82f5d7fb13d2f2c186"
   }
  }
 },
 "nbformat": 4,
 "nbformat_minor": 2
}
